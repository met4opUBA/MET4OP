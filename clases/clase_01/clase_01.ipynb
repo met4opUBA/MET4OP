{
  "nbformat": 4,
  "nbformat_minor": 0,
  "metadata": {
    "file_extension": ".py",
    "kernelspec": {
      "display_name": "Python 3",
      "language": "python",
      "name": "python3"
    },
    "language_info": {
      "codemirror_mode": {
        "name": "ipython",
        "version": 3
      },
      "file_extension": ".py",
      "mimetype": "text/x-python",
      "name": "python",
      "nbconvert_exporter": "python",
      "pygments_lexer": "ipython3",
      "version": "3.6.9-final"
    },
    "latex_envs": {
      "LaTeX_envs_menu_present": true,
      "autoclose": true,
      "autocomplete": true,
      "bibliofile": "biblio.bib",
      "cite_by": "apalike",
      "current_citInitial": 1,
      "eqLabelWithNumbers": true,
      "eqNumInitial": 1,
      "hotkeys": {
        "equation": "Ctrl-E",
        "itemize": "Ctrl-I"
      },
      "labels_anchors": false,
      "latex_user_defs": false,
      "report_style_numbering": false,
      "user_envs_cfg": false
    },
    "mimetype": "text/x-python",
    "name": "python",
    "npconvert_exporter": "python",
    "pygments_lexer": "ipython3",
    "toc": {
      "base_numbering": 1,
      "nav_menu": {},
      "number_sections": false,
      "sideBar": true,
      "skip_h1_title": false,
      "title_cell": "Table of Contents",
      "title_sidebar": "Contents",
      "toc_cell": false,
      "toc_position": {},
      "toc_section_display": true,
      "toc_window_display": true
    },
    "version": 3,
    "colab": {
      "name": "clase_01.ipynb",
      "provenance": [],
      "collapsed_sections": [
        "ZvZdua37ARrL",
        "0-BEREsEARws"
      ]
    }
  },
  "cells": [
    {
      "cell_type": "markdown",
      "metadata": {
        "id": "jlu7zZtGARnt"
      },
      "source": [
        "# Introducción a (Monty) Python"
      ]
    },
    {
      "cell_type": "markdown",
      "metadata": {
        "id": "HOufLeQ1ARn4"
      },
      "source": [
        "<img src=https://s1.mzstatic.com/us/r30/Purple/v4/f3/91/9d/f3919d69-71fe-dc74-bf91-c2e31853f228/mzl.whglchek.png width=\"300\">"
      ]
    },
    {
      "cell_type": "markdown",
      "metadata": {
        "id": "ubhXRS5-ARn9"
      },
      "source": [
        "## Variables en Python\n",
        "\n",
        "En la siguiente línea de código, asignamos el valor 42 a una variable:"
      ]
    },
    {
      "cell_type": "code",
      "metadata": {
        "id": "5gL4lGFFARoA"
      },
      "source": [
        "i  =  42"
      ],
      "execution_count": null,
      "outputs": []
    },
    {
      "cell_type": "markdown",
      "metadata": {
        "id": "fj484OpXARoP"
      },
      "source": [
        "El signo igual \"=\" en la asignación no debe verse como \"es igual a\". Debe interpretarse como \"se establece en\", es decir, en nuestro ejemplo \"la variable i se establece en 42\". Ahora aumentaremos el valor de esta variable en 1:"
      ]
    },
    {
      "cell_type": "code",
      "metadata": {
        "tags": [],
        "id": "2Bc2VAtoARoS",
        "outputId": "12183cbd-61f0-4d8b-8275-476ac307604a"
      },
      "source": [
        "\n",
        "i  =  i  +  1 \n",
        "print( i )\n"
      ],
      "execution_count": null,
      "outputs": [
        {
          "output_type": "stream",
          "text": [
            "43\n"
          ],
          "name": "stdout"
        }
      ]
    },
    {
      "cell_type": "markdown",
      "metadata": {
        "id": "t-if85H8ARog"
      },
      "source": [
        "El tipo de variable puede cambiar durante la ejecución de un script. O, para ser precisos se le asignará un nuevo objeto, que puede ser de cualquier tipo. Ilustramos esto en nuestro siguiente ejemplo:"
      ]
    },
    {
      "cell_type": "code",
      "metadata": {
        "id": "VLi1GeR7ARoi"
      },
      "source": [
        "i = 42 # el tipo de datos se establece implícitamente en un entero\n",
        "i = 42 + 0.11 # el tipo de datos se cambia a flotante\n",
        "i = \"42\" # y ahora será una cadena "
      ],
      "execution_count": null,
      "outputs": []
    },
    {
      "cell_type": "markdown",
      "metadata": {
        "id": "5l2srzqIARot"
      },
      "source": [
        "En otras palabras, Python se encarga automáticamente de la representación física de los diferentes tipos de datos."
      ]
    },
    {
      "cell_type": "markdown",
      "metadata": {
        "id": "pjIg3eV2ARov"
      },
      "source": [
        "## Referencias de objetos\n",
        "\n",
        "Las variables de Python son referencias a objetos, pero los datos reales están contenidos en los objetos:\n",
        "\n",
        "<img src=https://www.python-course.eu/images/python_variable_1.png width=\"300\">\n",
        "\n",
        "\n",
        "Dado que las variables apuntan a objetos y los objetos pueden ser de tipos de datos arbitrarios, las variables no pueden tener tipos asociados. Esta es una gran diferencia con otros lengaujes (C, C ++ o Java), donde una variable está asociada con un tipo de datos fijo. En estos lenguajes, esta asociación no se puede cambiar mientras el programa se esté ejecutando.\n",
        "\n",
        "En Python, es posible escribir código como el siguiente:"
      ]
    },
    {
      "cell_type": "code",
      "metadata": {
        "tags": [],
        "id": "5ACpR8TpARoy",
        "outputId": "d53dbce3-b7b6-4294-8ad3-563fd557c755"
      },
      "source": [
        "x  =  42 \n",
        "print( x )"
      ],
      "execution_count": null,
      "outputs": [
        {
          "output_type": "stream",
          "text": [
            "42\n"
          ],
          "name": "stdout"
        }
      ]
    },
    {
      "cell_type": "code",
      "metadata": {
        "tags": [],
        "id": "IxqEMP7rARpA",
        "outputId": "c0cd21b8-8823-4e12-dbeb-4f8691f2d327"
      },
      "source": [
        "x  =  \"Ahora x hace referencia a una cadena\" \n",
        "print( x )"
      ],
      "execution_count": null,
      "outputs": [
        {
          "output_type": "stream",
          "text": [
            "Ahora x hace referencia a una cadena\n"
          ],
          "name": "stdout"
        }
      ]
    },
    {
      "cell_type": "markdown",
      "metadata": {
        "id": "tK3NI3WVARpN"
      },
      "source": [
        "Veamos el siguiente código:"
      ]
    },
    {
      "cell_type": "code",
      "metadata": {
        "id": "wE2iG-qAARpP"
      },
      "source": [
        "\n",
        "x  =  42 \n",
        "y  =  x"
      ],
      "execution_count": null,
      "outputs": []
    },
    {
      "cell_type": "markdown",
      "metadata": {
        "id": "GQBH0716ARpb"
      },
      "source": [
        "Creamos un objeto 42 entero y lo asignamos a la variable x. Después de esto asignamos x a la variable y. Esto significa que ambas variables hacen referencia al mismo objeto. La siguiente imagen ilustra esto:\n",
        "\n",
        "<img src=https://www.python-course.eu/images/python_variable_2.png width=\"300\">"
      ]
    },
    {
      "cell_type": "markdown",
      "metadata": {
        "id": "epGh_mj1ARpd"
      },
      "source": [
        "Veamos el siguiente código:\n"
      ]
    },
    {
      "cell_type": "code",
      "metadata": {
        "id": "J5diECFtARpf"
      },
      "source": [
        "x = 42 \n",
        "y = x\n",
        "y = 78"
      ],
      "execution_count": null,
      "outputs": []
    },
    {
      "cell_type": "markdown",
      "metadata": {
        "id": "1Ptaix6AARpp"
      },
      "source": [
        "Python creará un nuevo objeto entero con el contenido 78 y luego la variable y hará referencia a este objeto recién creado, como podemos ver en la siguiente imagen:\n",
        "\n",
        "<img src=https://www.python-course.eu/images/python_variable_3.png width=\"300\">"
      ]
    },
    {
      "cell_type": "markdown",
      "metadata": {
        "id": "2vg_eK7GARpr"
      },
      "source": [
        "Veamos el siguiente código:\n"
      ]
    },
    {
      "cell_type": "code",
      "metadata": {
        "id": "ZpBPNCYfARpu"
      },
      "source": [
        "x = 42 \n",
        "y = x\n",
        "y = 78\n",
        "x = \"Text\"\n"
      ],
      "execution_count": null,
      "outputs": []
    },
    {
      "cell_type": "markdown",
      "metadata": {
        "id": "SsVEEiUEARqK"
      },
      "source": [
        "<img src=https://www.python-course.eu/images/python_variable_4.png width=\"300\">"
      ]
    },
    {
      "cell_type": "markdown",
      "metadata": {
        "id": "_xQXwYTiARqM"
      },
      "source": [
        "¿Cómo podemos ver o probar que x e y realmente hacen referencia al mismo objeto después de la asignación y = x de nuestro ejemplo anterior?\n",
        "\n",
        "La función de identidad id () se puede utilizar para este propósito. Cada instancia (objeto o variable) tiene una identidad, es decir, un número entero que es único dentro del script o programa, es decir, otros objetos tienen identidades diferentes."
      ]
    },
    {
      "cell_type": "code",
      "metadata": {
        "id": "UQyc-P0oARqO",
        "outputId": "77064310-f840-48ff-f0bf-c9e02f204c5e"
      },
      "source": [
        "x = 42\n",
        "y = x\n",
        "[id(x),id(y)]"
      ],
      "execution_count": null,
      "outputs": [
        {
          "output_type": "execute_result",
          "data": {
            "text/plain": [
              "[10915808, 10915808]"
            ]
          },
          "metadata": {
            "tags": []
          },
          "execution_count": 206
        }
      ]
    },
    {
      "cell_type": "code",
      "metadata": {
        "id": "5Z-sllm7ARql",
        "outputId": "abb549c5-4336-41dc-9f05-85ebebbfdc30"
      },
      "source": [
        "y = 78\n",
        "[id(x),id(y)]"
      ],
      "execution_count": null,
      "outputs": [
        {
          "output_type": "execute_result",
          "data": {
            "text/plain": [
              "[10915808, 10916960]"
            ]
          },
          "metadata": {
            "tags": []
          },
          "execution_count": 207
        }
      ]
    },
    {
      "cell_type": "code",
      "metadata": {
        "id": "KeJjvI6rARqz",
        "outputId": "750c25f6-399a-48af-f945-5a7e67d7a24c"
      },
      "source": [
        "x = \"Text\"\n",
        "[id(x),id(y)]"
      ],
      "execution_count": null,
      "outputs": [
        {
          "output_type": "execute_result",
          "data": {
            "text/plain": [
              "[139866394335920, 10916960]"
            ]
          },
          "metadata": {
            "tags": []
          },
          "execution_count": 208
        }
      ]
    },
    {
      "cell_type": "markdown",
      "metadata": {
        "id": "GxIXW5cbARq5"
      },
      "source": [
        "## Tipos de Variables\n",
        "\n",
        "En programación, el tipo de datos es un concepto importante.\n",
        "\n",
        "Las variables pueden almacenar datos de diferentes tipos y los diferentes tipos pueden hacer cosas diferentes.\n",
        "\n",
        "Python tiene los siguientes tipos de datos integrados de forma predeterminada, en estas categorías:\n",
        "* Tipo de texto: \tstr\n",
        "* Tipos numéricos: \tint, float, complex\n",
        "* Tipos de secuencia: \tlist, tuple, range\n",
        "* Tipo de mapeo: \tdict\n",
        "* Tipos de conjuntos: \tset, frozenset\n",
        "* Tipo booleano: \tbool\n",
        "* Tipos binarios: \tbytes, bytearray, memoryview\n",
        "\n",
        "#### Obtener el tipo de datos\n",
        "\n",
        "Puede obtenerse el tipo de datos de cualquier objeto utilizando la función type():"
      ]
    },
    {
      "cell_type": "code",
      "metadata": {
        "tags": [],
        "id": "JXq4cTQUARq6",
        "outputId": "335ed957-5761-4026-c4ce-39a16eefb7f2"
      },
      "source": [
        "x = 5\n",
        "print(type(x))"
      ],
      "execution_count": null,
      "outputs": [
        {
          "output_type": "stream",
          "text": [
            "<class 'int'>\n"
          ],
          "name": "stdout"
        }
      ]
    },
    {
      "cell_type": "markdown",
      "metadata": {
        "id": "7pgghwxCARrC"
      },
      "source": [
        "#### Definir variables de diferentes tipos\n",
        "\n",
        "En Python, el tipo de datos se establece cuando asigna un valor a una variable:\n",
        "\n",
        "|  Ejemplo |  Tipo de Dato |\n",
        "| ----- | ----- |\n",
        "|  x = \"Hello World\" |  str |\n",
        "|  x = 20 |  int |\n",
        "|  x = 20.5 |  float |\n",
        "|  x = 1j |  complex |\n",
        "|  x = [\"apple\", \"banana\", \"cherry\"] |  list |\n",
        "|  x = (\"apple\", \"banana\", \"cherry\") |  tuple |\n",
        "|  x = range(6) |  range |\n",
        "|  x = {\"name\" : \"John\", \"age\" : 36} |  dict |\n",
        "|  x = {\"apple\", \"banana\", \"cherry\"} |  set |\n",
        "|  x = frozenset({\"apple\", \"banana\", \"cherry\"}) |  frozenset |\n",
        "|  x = True |  bool |\n",
        "|  x = b\"Hello\" |  bytes |\n",
        "|  x = bytearray(5) |  bytearray |\n",
        "|  x = memoryview(bytes(5)) |  memoryview |\n",
        "\n"
      ]
    },
    {
      "cell_type": "markdown",
      "metadata": {
        "id": "060VQN2gARrD"
      },
      "source": [
        "Si se desea especificar el tipo de datos, se puede utilizar las siguientes funciones constructoras:\n",
        "\n",
        "|  Ejemplo |  Tipo de Dato |\n",
        "| ----- | ----- |  \n",
        "|  x = str(\"Hello World\") |  str |\n",
        "|  x = int(20) |  int |\n",
        "|  x = float(20.5) |  float |\n",
        "|  x = complex(1j) |  complex |\n",
        "|  x = list((\"apple\", \"banana\", \"cherry\")) |  list |\n",
        "|  x = tuple((\"apple\", \"banana\", \"cherry\")) |  tuple |\n",
        "|  x = range(6) |  range |\n",
        "|  x = dict(name=\"John\", age=36) |  dict |\n",
        "|  x = set((\"apple\", \"banana\", \"cherry\")) |  set |\n",
        "|  x = frozenset((\"apple\", \"banana\", \"cherry\")) |  frozenset |\n",
        "|  x = bool(5) |  bool |\n",
        "|  x = bytes(5) |  bytes |\n",
        "|  x = bytearray(5) |  bytearray |\n",
        "|  x = memoryview(bytes(5)) |  memoryview |"
      ]
    },
    {
      "cell_type": "markdown",
      "metadata": {
        "id": "KfLB3IfzARrF"
      },
      "source": [
        "### Números\n",
        "\n",
        "Python admite diferentes tipos numéricos:\n",
        "\n",
        "* int (enteros con signo): a menudo se denominan solo enteros o ints . Son números enteros positivos o negativos sin punto decimal. Los enteros en Python 3 son de tamaño ilimitado. Python 2 tiene dos tipos de enteros: int y long. Ya no hay 'entero largo' en Python 3.\n",
        "\n",
        "* float (valores reales de coma flotante): también llamados flotantes, representan números reales y se escriben con una coma decimal que divide el número entero y las partes fraccionarias. Los flotantes también pueden estar en notación científica, con E o e indicando la potencia de 10 (2.5e2 = 2.5 x 10 2 = 250).\n",
        "\n",
        "* complex (números complejos): tienen la forma a + bJ, donde a y b son flotantes y J (o j) representa la raíz cuadrada de -1 (que es un número imaginario). La parte real del número es a y la parte imaginaria es b. \n",
        "\n"
      ]
    },
    {
      "cell_type": "code",
      "metadata": {
        "id": "HsWA49FlARrG"
      },
      "source": [
        "significado = 42  # un número entero\n",
        "pi = 3.141592  # un número de coma flotante\n",
        "complejo = 2+4j  # un número complejo"
      ],
      "execution_count": null,
      "outputs": []
    },
    {
      "cell_type": "markdown",
      "metadata": {
        "id": "ZvZdua37ARrL"
      },
      "source": [
        "#### Conversión de tipo de número\n",
        "\n",
        "Python convierte los números internamente en una expresión que contiene tipos mixtos a un tipo común para su evaluación. A veces, es necesario forzar un número explícitamente de un tipo a otro para satisfacer los requisitos de un operador o parámetro de función.\n",
        "\n",
        "* int (x) para convertir x en un entero simple.\n",
        "\n",
        "* float (x) para convertir x en un número de punto flotante.\n",
        "\n",
        "* complex (x, y) para convertir x-y en un número complejo con la parte real x y la parte imaginaria y. xey son expresiones numéricas\n"
      ]
    },
    {
      "cell_type": "markdown",
      "metadata": {
        "id": "gn6zDo1tARrL"
      },
      "source": [
        "### Strings\n",
        "\n",
        "#### Definiendo cadenas (strings)\n",
        "\n",
        "Los literales de cadena en Python están rodeados por comillas simples o comillas dobles.\n",
        "\"hola\" es lo mismo que \"hola\" ."
      ]
    },
    {
      "cell_type": "code",
      "metadata": {
        "tags": [],
        "id": "-I2PeNwLARrM",
        "outputId": "2565b4bd-3485-4a91-8acf-033e6577e5ad"
      },
      "source": [
        "print(\"hola\")\n",
        "print('hola')"
      ],
      "execution_count": null,
      "outputs": [
        {
          "output_type": "stream",
          "text": [
            "hola\n",
            "hola\n"
          ],
          "name": "stdout"
        }
      ]
    },
    {
      "cell_type": "markdown",
      "metadata": {
        "id": "avSDmV0uARrV"
      },
      "source": [
        "Puede asignar una cadena de varias líneas a una variable utilizando tres comillas:"
      ]
    },
    {
      "cell_type": "code",
      "metadata": {
        "tags": [],
        "id": "VXRCI3PHARrX",
        "outputId": "adc31b9d-bd99-4ef1-fbe8-070f1825b1b9"
      },
      "source": [
        "a = \"\"\"Lorem ipsum dolor sit amet,\n",
        "consectetur adipiscing elit,\n",
        "sed do eiusmod tempor incididunt\n",
        "ut labore et dolore magna aliqua.\"\"\"\n",
        "print(a) "
      ],
      "execution_count": null,
      "outputs": [
        {
          "output_type": "stream",
          "text": [
            "Lorem ipsum dolor sit amet,\n",
            "consectetur adipiscing elit,\n",
            "sed do eiusmod tempor incididunt\n",
            "ut labore et dolore magna aliqua.\n"
          ],
          "name": "stdout"
        }
      ]
    },
    {
      "cell_type": "markdown",
      "metadata": {
        "id": "7W_I3ScxARre"
      },
      "source": [
        "#### Las cadenas son arrays\n",
        "\n",
        "Como muchos otros lenguajes de programación populares, las cadenas en Python son matrices de bytes que representan caracteres Unicode. Sin embargo, Python no tiene un tipo de datos de carácter, un solo carácter es simplemente una cadena con una longitud de 1.\n",
        "\n",
        "Se pueden utilizar corchetes para acceder a elementos de la cadena."
      ]
    },
    {
      "cell_type": "code",
      "metadata": {
        "tags": [],
        "id": "b8s0_XMtARrf",
        "outputId": "5d32262d-be85-44ab-b1dc-d981150528dd"
      },
      "source": [
        "texto = 'Romanes eunt'\n",
        "\n",
        "print(texto)  # Imprime la string\n",
        "print(texto[0])  # Imprime el primer caracter de la string\n",
        "print(texto[2:5])  # Imprime characteres, del 3 al 5\n",
        "print(texto[2:])  # Imprime characteres, del 3 al final\n"
      ],
      "execution_count": null,
      "outputs": [
        {
          "output_type": "stream",
          "text": [
            "Romanes eunt\n",
            "R\n",
            "man\n",
            "manes eunt\n"
          ],
          "name": "stdout"
        }
      ]
    },
    {
      "cell_type": "markdown",
      "metadata": {
        "id": "NKFH5LDyARrn"
      },
      "source": [
        "#### Métodos de cadena\n",
        "\n",
        "Python tiene un conjunto de métodos integrados que puede usar en cadenas.\n",
        "\n",
        "strip(): elimina cualquier espacio en blanco del principio o del final:\n"
      ]
    },
    {
      "cell_type": "code",
      "metadata": {
        "tags": [],
        "id": "hnGILCSIARrp",
        "outputId": "0e3a84ab-0411-4a38-c4c0-5a0ffa1a3d10"
      },
      "source": [
        "a = \" Hola, Mundo! \"\n",
        "print(a.strip()) # devuelve \"Hola, Mundo!\" "
      ],
      "execution_count": null,
      "outputs": [
        {
          "output_type": "stream",
          "text": [
            "Hola, Mundo!\n"
          ],
          "name": "stdout"
        }
      ]
    },
    {
      "cell_type": "markdown",
      "metadata": {
        "id": "gzaB5-2CARry"
      },
      "source": [
        "upper() / lower() devuelve la cadena en mayúsculas / minúsculas:\n"
      ]
    },
    {
      "cell_type": "code",
      "metadata": {
        "tags": [],
        "id": "kbD2bscUARrz",
        "outputId": "3506e2ea-1974-4ab2-92f9-606a2d915a18"
      },
      "source": [
        "a = \"Hola, Mundo!\"\n",
        "print(a.upper())"
      ],
      "execution_count": null,
      "outputs": [
        {
          "output_type": "stream",
          "text": [
            "HOLA, MUNDO!\n"
          ],
          "name": "stdout"
        }
      ]
    },
    {
      "cell_type": "markdown",
      "metadata": {
        "id": "F6TM2SHGPnYr"
      },
      "source": [
        "replace(): reemplaza una cadena con otra cadena"
      ]
    },
    {
      "cell_type": "code",
      "metadata": {
        "tags": [],
        "id": "BQYLNozoARsC",
        "outputId": "73db8c32-75d1-4535-bb19-9b5a62c9e3d5"
      },
      "source": [
        "a = \"Hola, Mundo!\"\n",
        "print(a.replace(\"H\", \"J\"))"
      ],
      "execution_count": null,
      "outputs": [
        {
          "output_type": "stream",
          "text": [
            "Jola, Mundo!\n"
          ],
          "name": "stdout"
        }
      ]
    },
    {
      "cell_type": "markdown",
      "metadata": {
        "id": "-6bW1WfOQCbD"
      },
      "source": [
        "split(): divide la cadena en subcadenas si encuentra instancias del separador"
      ]
    },
    {
      "cell_type": "code",
      "metadata": {
        "tags": [],
        "id": "kqensSXeARsX",
        "outputId": "af02835d-59dc-4d52-c1be-f96e8bc2d342"
      },
      "source": [
        "a = \"Hola, Mundo!\"\n",
        "print(a.split(\",\"))"
      ],
      "execution_count": null,
      "outputs": [
        {
          "output_type": "stream",
          "text": [
            "['Hola', ' Mundo!']\n"
          ],
          "name": "stdout"
        }
      ]
    },
    {
      "cell_type": "markdown",
      "metadata": {
        "id": "9le7nNcWARsf"
      },
      "source": [
        "## Colecciones de Python (arrays)\n",
        "\n",
        "Hay cuatro tipos de datos de recopilación en el lenguaje de programación Python:\n",
        "\n",
        "* Lista: es una colección ordenada y modificable. Permite miembros duplicados.\n",
        "* Tupla: es una colección ordenada e inmutable. Permite miembros duplicados.\n",
        "* Set: es una colección que no está ordenada ni indexada. No hay miembros duplicados.\n",
        "* Diccionario: es una colección desordenada, modificable e indexada."
      ]
    },
    {
      "cell_type": "markdown",
      "metadata": {
        "id": "7PUvmUwIARsh"
      },
      "source": [
        "### Listas\n",
        "\n",
        "La estructura de datos más básica en Python es la secuencia. A cada elemento de una secuencia se le asigna un número: su posición o índice. El primer índice es cero, el segundo índice es uno y así sucesivamente. Hay ciertas cosas que puede hacer con todos los tipos de secuencia. Estas operaciones incluyen indexar, dividir, agregar, multiplicar y verificar la pertenencia. Además, Python tiene funciones integradas para encontrar la longitud de una secuencia y para encontrar sus elementos más grandes y más pequeños.\n",
        "\n",
        "La lista es el tipo de datos más versátil disponible en Python, que se puede escribir como una lista de valores (elementos) separados por comas entre corchetes. Lo importante de una lista es que los elementos de una lista no necesitan ser del mismo tipo.\n",
        "\n",
        "#### Creando una Lista"
      ]
    },
    {
      "cell_type": "code",
      "metadata": {
        "tags": [],
        "id": "_rVe3uGqARsi"
      },
      "source": [
        "lista = ['madera', \"piedra\", \"bruja\", \"pato\", 0.10, 1 ]\n",
        "listita = ['madera', 'pato']\n"
      ],
      "execution_count": null,
      "outputs": []
    },
    {
      "cell_type": "code",
      "metadata": {
        "id": "gNzy17bPARso",
        "outputId": "a0c8f911-2a04-4f86-fae5-f0ee8e8785cb"
      },
      "source": [
        "# Lista completa\n",
        "lista"
      ],
      "execution_count": null,
      "outputs": [
        {
          "output_type": "execute_result",
          "data": {
            "text/plain": [
              "['madera', 'piedra', 'bruja', 'pato', 0.1, 1]"
            ]
          },
          "metadata": {
            "tags": []
          },
          "execution_count": 219
        }
      ]
    },
    {
      "cell_type": "markdown",
      "metadata": {
        "id": "_BC5IubhARsu"
      },
      "source": [
        "#### Acceder a los elementos de una lista"
      ]
    },
    {
      "cell_type": "code",
      "metadata": {
        "id": "JD2nt4nsARsv",
        "outputId": "7b4c88eb-ffa5-489e-8d3a-dd0b69a65b50"
      },
      "source": [
        " # Extrae el primer elemento\n",
        "lista[0]"
      ],
      "execution_count": null,
      "outputs": [
        {
          "output_type": "execute_result",
          "data": {
            "text/plain": [
              "'madera'"
            ]
          },
          "metadata": {
            "tags": []
          },
          "execution_count": 220
        }
      ]
    },
    {
      "cell_type": "code",
      "metadata": {
        "id": "cU0mmypHARsz",
        "outputId": "c9dfcff7-d2b8-40b5-d909-e9d216c7687a"
      },
      "source": [
        "# Extrae los elementos 2 y 3\n",
        "lista[1:3]"
      ],
      "execution_count": null,
      "outputs": [
        {
          "output_type": "execute_result",
          "data": {
            "text/plain": [
              "['piedra', 'bruja']"
            ]
          },
          "metadata": {
            "tags": []
          },
          "execution_count": 221
        }
      ]
    },
    {
      "cell_type": "code",
      "metadata": {
        "id": "B6zfpfdLARs7",
        "outputId": "80f20389-3a30-4c75-d788-f00da3be1fad"
      },
      "source": [
        "# Extrae los elementos desde el 3 en adelante\n",
        "lista[2:]"
      ],
      "execution_count": null,
      "outputs": [
        {
          "output_type": "execute_result",
          "data": {
            "text/plain": [
              "['bruja', 'pato', 0.1, 1]"
            ]
          },
          "metadata": {
            "tags": []
          },
          "execution_count": 222
        }
      ]
    },
    {
      "cell_type": "markdown",
      "metadata": {
        "id": "PMnxZxeSUDTN"
      },
      "source": [
        "Si el índice es negativo, comienza de atras para adelante.\n",
        "\n",
        "-1: último elemento <br>\n",
        "-2: penúltimo elemento <br>\n",
        "Y así sucesivamente"
      ]
    },
    {
      "cell_type": "code",
      "metadata": {
        "id": "1EPoDx26Tv5w",
        "colab": {
          "base_uri": "https://localhost:8080/",
          "height": 34
        },
        "outputId": "9d021d37-535b-4f89-d245-39372d95d99f"
      },
      "source": [
        "# Extrae el último elemento\n",
        "lista[-1]"
      ],
      "execution_count": null,
      "outputs": [
        {
          "output_type": "execute_result",
          "data": {
            "text/plain": [
              "1"
            ]
          },
          "metadata": {
            "tags": []
          },
          "execution_count": 223
        }
      ]
    },
    {
      "cell_type": "code",
      "metadata": {
        "id": "uJkd5XCFVCmg",
        "colab": {
          "base_uri": "https://localhost:8080/",
          "height": 34
        },
        "outputId": "3d46afcf-07f6-496a-b323-0497c80bb15f"
      },
      "source": [
        "# Extra el último y penútimo elemento\n",
        "lista [-2:]"
      ],
      "execution_count": null,
      "outputs": [
        {
          "output_type": "execute_result",
          "data": {
            "text/plain": [
              "[0.1, 1]"
            ]
          },
          "metadata": {
            "tags": []
          },
          "execution_count": 224
        }
      ]
    },
    {
      "cell_type": "markdown",
      "metadata": {
        "id": "vx3v6ZNwARtA"
      },
      "source": [
        "#### Modificar elemento de una lista"
      ]
    },
    {
      "cell_type": "code",
      "metadata": {
        "id": "-CCReM3gARtB",
        "outputId": "f736bde9-2ed9-4710-8e7b-4e8271ed55ff"
      },
      "source": [
        "# Modifica el primer valor de la lista\n",
        "lista[0] = 'flota'\n",
        "lista"
      ],
      "execution_count": null,
      "outputs": [
        {
          "output_type": "execute_result",
          "data": {
            "text/plain": [
              "['flota', 'piedra', 'bruja', 'pato', 0.1, 1]"
            ]
          },
          "metadata": {
            "tags": []
          },
          "execution_count": 225
        }
      ]
    },
    {
      "cell_type": "markdown",
      "metadata": {
        "id": "raCkigvKARtG"
      },
      "source": [
        "#### Remover un elemento de una lista"
      ]
    },
    {
      "cell_type": "code",
      "metadata": {
        "id": "60iyTXNgARtH",
        "outputId": "f0d0ae3a-82b7-49e6-bd60-ba2b09754db9"
      },
      "source": [
        "lista"
      ],
      "execution_count": null,
      "outputs": [
        {
          "output_type": "execute_result",
          "data": {
            "text/plain": [
              "['flota', 'piedra', 'bruja', 'pato', 0.1, 1]"
            ]
          },
          "metadata": {
            "tags": []
          },
          "execution_count": 226
        }
      ]
    },
    {
      "cell_type": "code",
      "metadata": {
        "id": "748qD5xgARtO",
        "outputId": "71afbfd2-51b3-4055-f9b4-c8d6fad617a7"
      },
      "source": [
        "# Modifica in situ a la lista\n",
        "del lista[5]\n",
        "lista"
      ],
      "execution_count": null,
      "outputs": [
        {
          "output_type": "execute_result",
          "data": {
            "text/plain": [
              "['flota', 'piedra', 'bruja', 'pato', 0.1]"
            ]
          },
          "metadata": {
            "tags": []
          },
          "execution_count": 227
        }
      ]
    },
    {
      "cell_type": "markdown",
      "metadata": {
        "id": "oILl8bMoARtR"
      },
      "source": [
        "#### Operaciones con Listas\n",
        "\n",
        "Longitud de la lista"
      ]
    },
    {
      "cell_type": "code",
      "metadata": {
        "id": "yG_7us7qARtS",
        "outputId": "ce4673ca-ac06-4346-cb26-b838a1cce847"
      },
      "source": [
        "len(lista)"
      ],
      "execution_count": null,
      "outputs": [
        {
          "output_type": "execute_result",
          "data": {
            "text/plain": [
              "5"
            ]
          },
          "metadata": {
            "tags": []
          },
          "execution_count": 228
        }
      ]
    },
    {
      "cell_type": "markdown",
      "metadata": {
        "id": "wL6uFSfQARtX"
      },
      "source": [
        "Concatenar listas"
      ]
    },
    {
      "cell_type": "code",
      "metadata": {
        "id": "zbSoqKrEARtY",
        "outputId": "900ffa85-c8ec-4f82-a066-e5aba969f471"
      },
      "source": [
        "lista + listita"
      ],
      "execution_count": null,
      "outputs": [
        {
          "output_type": "execute_result",
          "data": {
            "text/plain": [
              "['flota', 'piedra', 'bruja', 'pato', 0.1, 'madera', 'pato']"
            ]
          },
          "metadata": {
            "tags": []
          },
          "execution_count": 229
        }
      ]
    },
    {
      "cell_type": "markdown",
      "metadata": {
        "id": "g2f75xC2ARtc"
      },
      "source": [
        "Multiplicar la lista (lista * n)"
      ]
    },
    {
      "cell_type": "code",
      "metadata": {
        "id": "IVp1q7f1ARtd",
        "outputId": "3bdb568f-5884-410a-9b42-c583f72bee06"
      },
      "source": [
        "listita * 2"
      ],
      "execution_count": null,
      "outputs": [
        {
          "output_type": "execute_result",
          "data": {
            "text/plain": [
              "['madera', 'pato', 'madera', 'pato']"
            ]
          },
          "metadata": {
            "tags": []
          },
          "execution_count": 230
        }
      ]
    },
    {
      "cell_type": "markdown",
      "metadata": {
        "id": "TSDVZQQ3ARth"
      },
      "source": [
        "#### Métodos para las Lista:\n",
        "\n",
        "Python incluye los siguientes métodos para las listas:"
      ]
    },
    {
      "cell_type": "code",
      "metadata": {
        "id": "_M4qRrX-ARti"
      },
      "source": [
        "lista = [1 ,\"a\", 3]"
      ],
      "execution_count": null,
      "outputs": []
    },
    {
      "cell_type": "markdown",
      "metadata": {
        "id": "4Pp94CBsARto"
      },
      "source": [
        "list.append (obj): Agrega el objeto obj a la lista"
      ]
    },
    {
      "cell_type": "code",
      "metadata": {
        "id": "kPKu2Ld6ARtr",
        "outputId": "90f3cb35-1653-4614-f80e-7b3965754169"
      },
      "source": [
        "lista.append(1)\n",
        "lista"
      ],
      "execution_count": null,
      "outputs": [
        {
          "output_type": "execute_result",
          "data": {
            "text/plain": [
              "[1, 'a', 3, 1]"
            ]
          },
          "metadata": {
            "tags": []
          },
          "execution_count": 232
        }
      ]
    },
    {
      "cell_type": "markdown",
      "metadata": {
        "id": "GTpvr7yNARt2"
      },
      "source": [
        "\n",
        "list.count (obj): Devuelve el recuento de cuántas veces aparece obj en la lista"
      ]
    },
    {
      "cell_type": "code",
      "metadata": {
        "id": "yUecRfbrARt3",
        "outputId": "c6b2f406-c52d-4f8d-ed6c-3b3bd244fdd5"
      },
      "source": [
        "lista.count(1)"
      ],
      "execution_count": null,
      "outputs": [
        {
          "output_type": "execute_result",
          "data": {
            "text/plain": [
              "2"
            ]
          },
          "metadata": {
            "tags": []
          },
          "execution_count": 233
        }
      ]
    },
    {
      "cell_type": "markdown",
      "metadata": {
        "id": "5-sfHN8LARt9"
      },
      "source": [
        "list.extend (seq): Agrega el contenido de seq a la lista"
      ]
    },
    {
      "cell_type": "code",
      "metadata": {
        "id": "asjpKwR4ARuB",
        "outputId": "5bf33664-025c-4aa8-875a-13e2071b1bfa"
      },
      "source": [
        "lista_2 = [\"a\",\"b\"]\n",
        "lista.extend(lista_2)\n",
        "lista"
      ],
      "execution_count": null,
      "outputs": [
        {
          "output_type": "execute_result",
          "data": {
            "text/plain": [
              "[1, 'a', 3, 1, 'a', 'b']"
            ]
          },
          "metadata": {
            "tags": []
          },
          "execution_count": 234
        }
      ]
    },
    {
      "cell_type": "markdown",
      "metadata": {
        "id": "DMdnHgpkARuJ"
      },
      "source": [
        "list.index (obj): Devuelve el índice más bajo en la lista que aparece obj"
      ]
    },
    {
      "cell_type": "code",
      "metadata": {
        "id": "Wki3aROyARuK",
        "outputId": "59c9d5c5-df94-4db0-850b-ff89d11526be"
      },
      "source": [
        "lista.index(1)"
      ],
      "execution_count": null,
      "outputs": [
        {
          "output_type": "execute_result",
          "data": {
            "text/plain": [
              "0"
            ]
          },
          "metadata": {
            "tags": []
          },
          "execution_count": 235
        }
      ]
    },
    {
      "cell_type": "markdown",
      "metadata": {
        "id": "Fl2RitrDARuR"
      },
      "source": [
        "list.insert (índice, obj): Inserta el objeto obj en la lista en el índice de desplazamiento"
      ]
    },
    {
      "cell_type": "code",
      "metadata": {
        "id": "U9C3UsP_ARuS",
        "outputId": "2dc3f6f5-7acb-43c2-87b2-292c6f7a1eda"
      },
      "source": [
        "lista"
      ],
      "execution_count": null,
      "outputs": [
        {
          "output_type": "execute_result",
          "data": {
            "text/plain": [
              "[1, 'a', 3, 1, 'a', 'b']"
            ]
          },
          "metadata": {
            "tags": []
          },
          "execution_count": 236
        }
      ]
    },
    {
      "cell_type": "code",
      "metadata": {
        "id": "7ze9bZOYARua",
        "outputId": "ccd81c3b-bb51-4623-f2fd-f74ffb75d155"
      },
      "source": [
        "lista.insert(2,\"z\")\n",
        "lista"
      ],
      "execution_count": null,
      "outputs": [
        {
          "output_type": "execute_result",
          "data": {
            "text/plain": [
              "[1, 'a', 'z', 3, 1, 'a', 'b']"
            ]
          },
          "metadata": {
            "tags": []
          },
          "execution_count": 237
        }
      ]
    },
    {
      "cell_type": "markdown",
      "metadata": {
        "id": "nN43ig_pARuf"
      },
      "source": [
        "list.pop (obj = list \\[-1\\]): Elimina y devuelve el último objeto u obj de la lista"
      ]
    },
    {
      "cell_type": "code",
      "metadata": {
        "id": "qBoMN2A4ARug",
        "outputId": "e5d0d37a-0718-420b-ac8c-cd2aa3dc46db"
      },
      "source": [
        "aux = lista.pop()\n",
        "aux"
      ],
      "execution_count": null,
      "outputs": [
        {
          "output_type": "execute_result",
          "data": {
            "text/plain": [
              "'b'"
            ]
          },
          "metadata": {
            "tags": []
          },
          "execution_count": 238
        }
      ]
    },
    {
      "cell_type": "code",
      "metadata": {
        "id": "a_x22gg3ARuk",
        "outputId": "9fbf3df1-b987-4c85-e5f2-786df87a67e6"
      },
      "source": [
        "lista"
      ],
      "execution_count": null,
      "outputs": [
        {
          "output_type": "execute_result",
          "data": {
            "text/plain": [
              "[1, 'a', 'z', 3, 1, 'a']"
            ]
          },
          "metadata": {
            "tags": []
          },
          "execution_count": 239
        }
      ]
    },
    {
      "cell_type": "code",
      "metadata": {
        "id": "ILa1s5wyARuq",
        "outputId": "aa4a8b78-705c-4599-847c-949824969a71"
      },
      "source": [
        "aux = lista.pop(2)\n",
        "aux"
      ],
      "execution_count": null,
      "outputs": [
        {
          "output_type": "execute_result",
          "data": {
            "text/plain": [
              "'z'"
            ]
          },
          "metadata": {
            "tags": []
          },
          "execution_count": 240
        }
      ]
    },
    {
      "cell_type": "code",
      "metadata": {
        "id": "dDLJJgrFARux",
        "outputId": "17aa8e0e-d85d-416c-a7a1-2c08dadc2713"
      },
      "source": [
        "lista"
      ],
      "execution_count": null,
      "outputs": [
        {
          "output_type": "execute_result",
          "data": {
            "text/plain": [
              "[1, 'a', 3, 1, 'a']"
            ]
          },
          "metadata": {
            "tags": []
          },
          "execution_count": 241
        }
      ]
    },
    {
      "cell_type": "markdown",
      "metadata": {
        "id": "qgpVt01sARu0"
      },
      "source": [
        "list.remove (obj): Elimina el objeto obj de la lista"
      ]
    },
    {
      "cell_type": "code",
      "metadata": {
        "id": "34Y5diYVARu0",
        "outputId": "c727cfe1-4b52-4cab-8ce4-ea671e15739c"
      },
      "source": [
        "aux = lista.remove(1)\n",
        "lista"
      ],
      "execution_count": null,
      "outputs": [
        {
          "output_type": "execute_result",
          "data": {
            "text/plain": [
              "['a', 3, 1, 'a']"
            ]
          },
          "metadata": {
            "tags": []
          },
          "execution_count": 242
        }
      ]
    },
    {
      "cell_type": "markdown",
      "metadata": {
        "id": "nQZ37g1CARu7"
      },
      "source": [
        "list.reverse (): Invierte los objetos de la lista en su lugar"
      ]
    },
    {
      "cell_type": "code",
      "metadata": {
        "id": "O7IAeZBdARu8",
        "outputId": "10c3194f-9210-4293-f5f1-6a604a50f2a5"
      },
      "source": [
        "lista.reverse()\n",
        "lista"
      ],
      "execution_count": null,
      "outputs": [
        {
          "output_type": "execute_result",
          "data": {
            "text/plain": [
              "['a', 1, 3, 'a']"
            ]
          },
          "metadata": {
            "tags": []
          },
          "execution_count": 243
        }
      ]
    },
    {
      "cell_type": "markdown",
      "metadata": {
        "id": "hPV85NX0ARvH"
      },
      "source": [
        "list.sort ([func]): Ordena los objetos de la lista, use la función de comparación si se proporciona"
      ]
    },
    {
      "cell_type": "code",
      "metadata": {
        "id": "o8VUhig-ARvI",
        "outputId": "39b92132-3e13-4a1d-c093-13fade460edd"
      },
      "source": [
        "lista = [1,4,0,3]\n",
        "lista.sort()\n",
        "lista"
      ],
      "execution_count": null,
      "outputs": [
        {
          "output_type": "execute_result",
          "data": {
            "text/plain": [
              "[0, 1, 3, 4]"
            ]
          },
          "metadata": {
            "tags": []
          },
          "execution_count": 244
        }
      ]
    },
    {
      "cell_type": "markdown",
      "metadata": {
        "id": "wrjFQ7Q0ARvP"
      },
      "source": [
        "### Tuplas\n",
        "\n",
        "Una tupla es una colección de objetos ordenados e inmutables. Las tuplas son secuencias, como listas. La principal diferencia entre las tuplas y las listas es que las tuplas no se pueden cambiar a diferencia de las listas. Las tuplas usan paréntesis, mientras que las listas usan corchetes."
      ]
    },
    {
      "cell_type": "code",
      "metadata": {
        "tags": [],
        "id": "IPba5hkVARvQ",
        "outputId": "35f28805-6d43-4b01-88ba-71c95f30cba6"
      },
      "source": [
        "tupla = ('madera', \"piedra\", \"bruja\", \"pato\", 0.10)\n",
        "tuplaita = ('madera', 'pato')\n",
        "\n",
        "print(tupla)  # Imprime complete list\n",
        "print(tupla[0])  # Imprime el primer elemento\n",
        "print(tupla[1:3])  # Imprime los elementos 2 y 3\n",
        "print(tupla[2:])  # Imprime elementos desde el 3 en adelante\n",
        "print(tuplaita * 2)  # Imprime lista 2 veces\n",
        "print(tupla + tuplaita)  # Imprime la lista concatenateda"
      ],
      "execution_count": null,
      "outputs": [
        {
          "output_type": "stream",
          "text": [
            "('madera', 'piedra', 'bruja', 'pato', 0.1)\n",
            "madera\n",
            "('piedra', 'bruja')\n",
            "('bruja', 'pato', 0.1)\n",
            "('madera', 'pato', 'madera', 'pato')\n",
            "('madera', 'piedra', 'bruja', 'pato', 0.1, 'madera', 'pato')\n"
          ],
          "name": "stdout"
        }
      ]
    },
    {
      "cell_type": "markdown",
      "metadata": {
        "id": "gQ-142PyARvZ"
      },
      "source": [
        "#### Inmutabilidad"
      ]
    },
    {
      "cell_type": "code",
      "metadata": {
        "id": "lhqvYchQARva",
        "outputId": "96a536f4-4ecd-4982-d4d9-1daf99050039"
      },
      "source": [
        "tupla[0] = 'flota' # Error\n"
      ],
      "execution_count": null,
      "outputs": [
        {
          "output_type": "error",
          "ename": "TypeError",
          "evalue": "'tuple' object does not support item assignment",
          "traceback": [
            "\u001b[0;31m---------------------------------------------------------------------------\u001b[0m",
            "\u001b[0;31mTypeError\u001b[0m                                 Traceback (most recent call last)",
            "\u001b[0;32m<ipython-input-247-be56f0050120>\u001b[0m in \u001b[0;36m<module>\u001b[0;34m\u001b[0m\n\u001b[0;32m----> 1\u001b[0;31m \u001b[0mtupla\u001b[0m\u001b[0;34m[\u001b[0m\u001b[0;36m0\u001b[0m\u001b[0;34m]\u001b[0m \u001b[0;34m=\u001b[0m \u001b[0;34m'flota'\u001b[0m \u001b[0;31m# Error\u001b[0m\u001b[0;34m\u001b[0m\u001b[0;34m\u001b[0m\u001b[0m\n\u001b[0m",
            "\u001b[0;31mTypeError\u001b[0m: 'tuple' object does not support item assignment"
          ]
        }
      ]
    },
    {
      "cell_type": "markdown",
      "metadata": {
        "id": "c9vognmwARvf"
      },
      "source": [
        "### Diccionarios\n",
        "\n",
        "Cada clave está separada de su valor por dos puntos (:), los elementos están separados por comas y todo está encerrado entre llaves. Un diccionario vacío sin elementos se escribe con solo dos llaves: {}.\n",
        "\n",
        "Las claves son únicas dentro de un diccionario, mientras que los valores pueden no serlo. Los valores de un diccionario pueden ser de cualquier tipo, pero las claves deben ser de un tipo de datos inmutable, como cadenas, números o tuplas.\n",
        "\n",
        "#### Creación\n",
        "\n",
        "* Método 1: Explícito"
      ]
    },
    {
      "cell_type": "code",
      "metadata": {
        "id": "nxx30NZbARvh",
        "outputId": "90de5b09-ad88-4263-8b2b-a77140b5e26f"
      },
      "source": [
        "#{clave: valor}\n",
        "diccionario = {'nombre': 'juan', 'codigo': 6734, 'depto': 'ventas'}\n",
        "diccionario\n"
      ],
      "execution_count": null,
      "outputs": [
        {
          "output_type": "execute_result",
          "data": {
            "text/plain": [
              "{'nombre': 'juan', 'codigo': 6734, 'depto': 'ventas'}"
            ]
          },
          "metadata": {
            "tags": []
          },
          "execution_count": 248
        }
      ]
    },
    {
      "cell_type": "markdown",
      "metadata": {
        "id": "AxXMOItXARvo"
      },
      "source": [
        "* Método 2: A partir de un diccionario vacío\n"
      ]
    },
    {
      "cell_type": "code",
      "metadata": {
        "id": "NzT2wkQ_ARvp",
        "outputId": "b397798e-ea33-44e9-c073-f31b47dd2244"
      },
      "source": [
        "diccionario = {}\n",
        "diccionario['uno'] = 1\n",
        "diccionario['dos'] = 2\n",
        "diccionario"
      ],
      "execution_count": null,
      "outputs": [
        {
          "output_type": "execute_result",
          "data": {
            "text/plain": [
              "{'uno': 1, 'dos': 2}"
            ]
          },
          "metadata": {
            "tags": []
          },
          "execution_count": 249
        }
      ]
    },
    {
      "cell_type": "markdown",
      "metadata": {
        "id": "O55HP1KjARvu"
      },
      "source": [
        "* Método 3: Usando la función zip()"
      ]
    },
    {
      "cell_type": "code",
      "metadata": {
        "id": "7k6hbAjHARvx",
        "outputId": "c18c5ff0-4a5f-4b5e-f994-a416c68764f6"
      },
      "source": [
        "keys = ['uno', 'dos', 'tres']\n",
        "values = [1, 2, 3]\n",
        "diccionario = dict(zip(keys, values))\n",
        "diccionario"
      ],
      "execution_count": null,
      "outputs": [
        {
          "output_type": "execute_result",
          "data": {
            "text/plain": [
              "{'uno': 1, 'dos': 2, 'tres': 3}"
            ]
          },
          "metadata": {
            "tags": []
          },
          "execution_count": 250
        }
      ]
    },
    {
      "cell_type": "markdown",
      "metadata": {
        "id": "V4v24_i1ARv7"
      },
      "source": [
        "__*Propiedades de las claves del diccionario*__\n",
        "\n",
        "Los valores del diccionario no tienen restricciones. Pueden ser cualquier objeto de Python arbitrario, ya sea objetos estándar u objetos definidos por el usuario. Sin embargo, no ocurre lo mismo con las claves. Hay dos puntos importantes para recordar acerca de las claves del diccionario:\n",
        "\n",
        "(a) No se permite más de una entrada por clave. Esto significa que no se permiten claves duplicadas. Cuando se encuentran claves duplicadas durante la asignación, la última asignación gana. Por ejemplo"
      ]
    },
    {
      "cell_type": "code",
      "metadata": {
        "tags": [],
        "id": "YsxPXQZ0ARv9",
        "outputId": "30370271-671e-4603-aca6-9bbef6e1faf9"
      },
      "source": [
        "diccionario_err = {'Uno': '1', 'Dos': 2, 'Uno': 1}\n",
        "diccionario_err['Uno']"
      ],
      "execution_count": null,
      "outputs": [
        {
          "output_type": "execute_result",
          "data": {
            "text/plain": [
              "1"
            ]
          },
          "metadata": {
            "tags": []
          },
          "execution_count": 251
        }
      ]
    },
    {
      "cell_type": "code",
      "metadata": {
        "id": "9mOW15VEARwC",
        "outputId": "a647687f-d3aa-44b7-f5b5-779b6c95d931"
      },
      "source": [
        "diccionario_err"
      ],
      "execution_count": null,
      "outputs": [
        {
          "output_type": "execute_result",
          "data": {
            "text/plain": [
              "{'Uno': 1, 'Dos': 2}"
            ]
          },
          "metadata": {
            "tags": []
          },
          "execution_count": 252
        }
      ]
    },
    {
      "cell_type": "markdown",
      "metadata": {
        "id": "kXbFQxf3ARwG"
      },
      "source": [
        "\n",
        "(b) Las claves deben ser inmutables. Esto significa que puede usar cadenas, números o tuplas como claves de diccionario, pero algo como \\['clave'\\] no está permitido. A continuación se muestra un ejemplo simple:"
      ]
    },
    {
      "cell_type": "code",
      "metadata": {
        "id": "O_TBSi7cARwG",
        "outputId": "94b99e4f-f02d-4bf4-f736-a49c0ae0b816"
      },
      "source": [
        "diccionario_err = {['Uno']: '1', 'Dos': 2, 'Tres': 3}"
      ],
      "execution_count": null,
      "outputs": [
        {
          "output_type": "error",
          "ename": "TypeError",
          "evalue": "unhashable type: 'list'",
          "traceback": [
            "\u001b[0;31m---------------------------------------------------------------------------\u001b[0m",
            "\u001b[0;31mTypeError\u001b[0m                                 Traceback (most recent call last)",
            "\u001b[0;32m<ipython-input-253-dfd3621702c4>\u001b[0m in \u001b[0;36m<module>\u001b[0;34m\u001b[0m\n\u001b[0;32m----> 1\u001b[0;31m \u001b[0mdiccionario_err\u001b[0m \u001b[0;34m=\u001b[0m \u001b[0;34m{\u001b[0m\u001b[0;34m[\u001b[0m\u001b[0;34m'Uno'\u001b[0m\u001b[0;34m]\u001b[0m\u001b[0;34m:\u001b[0m \u001b[0;34m'1'\u001b[0m\u001b[0;34m,\u001b[0m \u001b[0;34m'Dos'\u001b[0m\u001b[0;34m:\u001b[0m \u001b[0;36m2\u001b[0m\u001b[0;34m,\u001b[0m \u001b[0;34m'Tres'\u001b[0m\u001b[0;34m:\u001b[0m \u001b[0;36m3\u001b[0m\u001b[0;34m}\u001b[0m\u001b[0;34m\u001b[0m\u001b[0;34m\u001b[0m\u001b[0m\n\u001b[0m",
            "\u001b[0;31mTypeError\u001b[0m: unhashable type: 'list'"
          ]
        }
      ]
    },
    {
      "cell_type": "markdown",
      "metadata": {
        "id": "8REjBMdNARwL"
      },
      "source": [
        "#### Acceder a los valores y claves de un diccionario"
      ]
    },
    {
      "cell_type": "markdown",
      "metadata": {
        "id": "BhAVQqU3ARwM"
      },
      "source": [
        "Obtener las claves\n"
      ]
    },
    {
      "cell_type": "code",
      "metadata": {
        "tags": [],
        "id": "P6uTjNU2ARwN",
        "outputId": "df5a53bb-e89d-4973-b02a-552da3dbe497"
      },
      "source": [
        "diccionario.keys()"
      ],
      "execution_count": null,
      "outputs": [
        {
          "output_type": "execute_result",
          "data": {
            "text/plain": [
              "dict_keys(['uno', 'dos', 'tres'])"
            ]
          },
          "metadata": {
            "tags": []
          },
          "execution_count": 254
        }
      ]
    },
    {
      "cell_type": "markdown",
      "metadata": {
        "id": "a4yX28qZARwR"
      },
      "source": [
        "Obtener los valores"
      ]
    },
    {
      "cell_type": "code",
      "metadata": {
        "id": "CMbpSTpCARwS",
        "outputId": "ece66327-c807-4f46-cacd-d54b25d18321"
      },
      "source": [
        "diccionario.values()"
      ],
      "execution_count": null,
      "outputs": [
        {
          "output_type": "execute_result",
          "data": {
            "text/plain": [
              "dict_values([1, 2, 3])"
            ]
          },
          "metadata": {
            "tags": []
          },
          "execution_count": 255
        }
      ]
    },
    {
      "cell_type": "markdown",
      "metadata": {
        "id": "JtHbhYRKTu1C"
      },
      "source": [
        "Obtener las claves y los valores"
      ]
    },
    {
      "cell_type": "code",
      "metadata": {
        "id": "pyvg_0M6Tu1D",
        "outputId": "5cc96d91-a13c-4c17-e990-d54ce17e86dd"
      },
      "source": [
        "diccionario.items()"
      ],
      "execution_count": null,
      "outputs": [
        {
          "output_type": "execute_result",
          "data": {
            "text/plain": [
              "dict_items([('uno', 1), ('dos', 2), ('tres', 3)])"
            ]
          },
          "metadata": {
            "tags": []
          },
          "execution_count": 256
        }
      ]
    },
    {
      "cell_type": "markdown",
      "metadata": {
        "id": "RjFqRbN6ARwW"
      },
      "source": [
        "Obtener un valor\n",
        "\n",
        "Los valores de un diccionarios no se acceden por posición, sino por clave"
      ]
    },
    {
      "cell_type": "code",
      "metadata": {
        "id": "X-PY52n9ARwW",
        "outputId": "4caf7398-c141-45cb-bc25-b37d527b78cd"
      },
      "source": [
        "diccionario[0] # ERROR!!!"
      ],
      "execution_count": null,
      "outputs": [
        {
          "output_type": "error",
          "ename": "KeyError",
          "evalue": "0",
          "traceback": [
            "\u001b[0;31m---------------------------------------------------------------------------\u001b[0m",
            "\u001b[0;31mKeyError\u001b[0m                                  Traceback (most recent call last)",
            "\u001b[0;32m<ipython-input-257-d7a7296f2d34>\u001b[0m in \u001b[0;36m<module>\u001b[0;34m\u001b[0m\n\u001b[0;32m----> 1\u001b[0;31m \u001b[0mdiccionario\u001b[0m\u001b[0;34m[\u001b[0m\u001b[0;36m0\u001b[0m\u001b[0;34m]\u001b[0m \u001b[0;31m# ERROR!!!\u001b[0m\u001b[0;34m\u001b[0m\u001b[0;34m\u001b[0m\u001b[0m\n\u001b[0m",
            "\u001b[0;31mKeyError\u001b[0m: 0"
          ]
        }
      ]
    },
    {
      "cell_type": "code",
      "metadata": {
        "id": "6wOra8H-ARwc",
        "outputId": "8e2dce77-6944-4d48-918c-28037627f077"
      },
      "source": [
        "diccionario['uno']"
      ],
      "execution_count": null,
      "outputs": [
        {
          "output_type": "execute_result",
          "data": {
            "text/plain": [
              "1"
            ]
          },
          "metadata": {
            "tags": []
          },
          "execution_count": 258
        }
      ]
    },
    {
      "cell_type": "markdown",
      "metadata": {
        "id": "H2cILDbAARwh"
      },
      "source": [
        "#### Modificar elemento de un diccionario"
      ]
    },
    {
      "cell_type": "code",
      "metadata": {
        "id": "ul8ejO92ARwi",
        "outputId": "183391b2-9d78-4a92-ac20-0987a08d9ee7"
      },
      "source": [
        "diccionario['uno'] = 0\n",
        "diccionario"
      ],
      "execution_count": null,
      "outputs": [
        {
          "output_type": "execute_result",
          "data": {
            "text/plain": [
              "{'uno': 0, 'dos': 2, 'tres': 3}"
            ]
          },
          "metadata": {
            "tags": []
          },
          "execution_count": 259
        }
      ]
    },
    {
      "cell_type": "markdown",
      "metadata": {
        "id": "IT2y81d2ARwl"
      },
      "source": [
        "#### Eliminar elemento de un diccionario"
      ]
    },
    {
      "cell_type": "code",
      "metadata": {
        "id": "B_OySaYDARwm",
        "outputId": "ea488ae9-ca6a-4eda-b5ed-ae50fdf19b54"
      },
      "source": [
        "del diccionario['uno']\n",
        "diccionario"
      ],
      "execution_count": null,
      "outputs": [
        {
          "output_type": "execute_result",
          "data": {
            "text/plain": [
              "{'dos': 2, 'tres': 3}"
            ]
          },
          "metadata": {
            "tags": []
          },
          "execution_count": 260
        }
      ]
    },
    {
      "cell_type": "markdown",
      "metadata": {
        "id": "0-BEREsEARws"
      },
      "source": [
        "#### Métodos de diccionario\n",
        "\n",
        "dict.clear (): Elimina todos los elementos del diccionario dict\n",
        "\n",
        "dict.copy (): Devuelve una copia superficial del diccionario dict\n",
        "\n",
        "dict.fromkeys (): Cree un nuevo diccionario con claves de seq y valores establecidos en value .\n",
        "\n",
        "dict.get (clave, predeterminado = Ninguno): Para clave clave, devuelve valor o predeterminado si la clave no está en el diccionario\n",
        "\n",
        "dict.has_key (clave): Eliminado, utilice en su lugar en funcionamiento.\n",
        "\n",
        "dict.items (): Devuelve una lista de pares de tuplas de dict (clave, valor)\n",
        "\n",
        "dict.keys (): Devuelve la lista de claves del diccionario dict\n",
        "\n",
        "dict.setdefault (clave, predeterminado = Ninguno): Similar a get (), pero establecerá dict \\[clave\\] = predeterminado si la clave no está ya en dict\n",
        "\n",
        "dict.update (dict2): Agrega pares clave-valor del diccionario dict2 a dict\n",
        "\n",
        "dict.values ​​(): Devuelve la lista de valores de diccionario dic"
      ]
    },
    {
      "cell_type": "markdown",
      "metadata": {
        "id": "JmE4hwM7Tu1G"
      },
      "source": [
        "### Diccionarios Anidados"
      ]
    },
    {
      "cell_type": "markdown",
      "metadata": {
        "id": "ybK98wE-Tu1G"
      },
      "source": [
        "Un diccionario puede contener un valor de cualquier tipo, entre ellos, otro diccionario. Este hecho se conoce como diccionarios anidados. Para acceder al valor de una de las claves de un diccionario interno, se usa el operador de indexación anidada \\[clave1\\]\\[clave2\\]"
      ]
    },
    {
      "cell_type": "code",
      "metadata": {
        "tags": [],
        "id": "FLzuq1CZTu1H",
        "outputId": "8c64fd48-1037-4704-f68b-a729e70976bb"
      },
      "source": [
        " Empleados = {\n",
        "  \"Gerente\" : {\n",
        "    \"nombre\" : \"Julio\",\n",
        "    \"apellido\": \"Hernandez\",\n",
        "    \"anio\" : 2004\n",
        "  },\n",
        "  \"Director\" : {\n",
        "    \"nombre\" : \"Maria\",\n",
        "    \"apellido\": \"Fernandez\",\n",
        "    \"anio\" : 2017\n",
        "  },\n",
        "  \"Operario\" : {\n",
        "    \"nombre\" : \"Pedro\",\n",
        "    \"apellido\": \"Gonzalez\",\n",
        "    \"anio\" : 2019\n",
        "  }\n",
        "} \n",
        "print(Empleados)"
      ],
      "execution_count": null,
      "outputs": [
        {
          "output_type": "stream",
          "text": [
            "{'Gerente': {'nombre': 'Julio', 'apellido': 'Hernandez', 'anio': 2004}, 'Director': {'nombre': 'Maria', 'apellido': 'Fernandez', 'anio': 2017}, 'Operario': {'nombre': 'Pedro', 'apellido': 'Gonzalez', 'anio': 2019}}\n"
          ],
          "name": "stdout"
        }
      ]
    },
    {
      "cell_type": "code",
      "metadata": {
        "id": "YMCuZEgCTu1J",
        "outputId": "f01c5a56-48c3-48ad-b201-d586f64df138"
      },
      "source": [
        "Empleados[\"Gerente\"][\"apellido\"]"
      ],
      "execution_count": null,
      "outputs": [
        {
          "output_type": "execute_result",
          "data": {
            "text/plain": [
              "'Hernandez'"
            ]
          },
          "metadata": {
            "tags": []
          },
          "execution_count": 263
        }
      ]
    },
    {
      "cell_type": "markdown",
      "metadata": {
        "id": "4taNHVAaTu1J"
      },
      "source": [
        "-----\n",
        "¿Qué es JSON?\n",
        "\n",
        "JSON es el acrónimo para JavaScript Object Notation, y aunque su nombre lo diga, no es necesariamente parte de JavaScript, de hecho es un estándar basado en texto plano para el intercambio de información, por lo que se usa en muchos sistemas que requieren mostrar o enviar información para ser interpretada por otros sistemas, la ventaja de JSON al ser un formato que es independiente de cualquier lenguaje de programación, es que los servicios que comparten información por éste método, no necesitan hablar el mismo idioma, es decir, el emisor puede ser Java y el receptor PHP, cada lenguaje tiene su propia librería para codificar y decodificar cadenas de JSON.\n",
        "\n",
        "JSON puede representar cuatro tipos primitivos(cadenas, números, booleanos, valores nulos) y dos tipos estructurados(objetos y arreglos).\n",
        "\n",
        "En JSON:\n",
        "\n",
        "-    Una Cadena es una secuencia de ceros o más caracteres Unicode.\n",
        "-    Un Objeto es una colección desordenada de cero o más pares nombre:valor, donde un nombre es una cadena y un valor es una cadena, número, booleano, nulo, objeto o arreglo.\n",
        "-    Un Arreglo es una secuencia desordenada de ceros o más valores.\n",
        "\n",
        "¿Para que sirve JSON?\n",
        "\n",
        "JSON puede ser leído por cualquier lenguaje de programación. Por lo tanto, puede ser usado para el intercambio de información entre distintas tecnologías. Es muy común en la web."
      ]
    },
    {
      "cell_type": "code",
      "metadata": {
        "tags": [],
        "id": "Uw2rqJeGTu1L",
        "outputId": "f1ca2646-4c05-460d-f0c6-32f012c46ef0"
      },
      "source": [
        "# Importamos nuestra primer librería\n",
        "import json\n",
        "print(json.dumps(Empleados, indent=4))"
      ],
      "execution_count": null,
      "outputs": [
        {
          "output_type": "stream",
          "text": [
            "{\n",
            "    \"Gerente\": {\n",
            "        \"nombre\": \"Julio\",\n",
            "        \"apellido\": \"Hernandez\",\n",
            "        \"anio\": 2004\n",
            "    },\n",
            "    \"Director\": {\n",
            "        \"nombre\": \"Maria\",\n",
            "        \"apellido\": \"Fernandez\",\n",
            "        \"anio\": 2017\n",
            "    },\n",
            "    \"Operario\": {\n",
            "        \"nombre\": \"Pedro\",\n",
            "        \"apellido\": \"Gonzalez\",\n",
            "        \"anio\": 2019\n",
            "    }\n",
            "}\n"
          ],
          "name": "stdout"
        }
      ]
    },
    {
      "cell_type": "markdown",
      "metadata": {
        "id": "OMQ7RTiQTu1L"
      },
      "source": [
        "-----"
      ]
    },
    {
      "cell_type": "code",
      "metadata": {
        "tags": [],
        "id": "SQdyp0WBTu1M"
      },
      "source": [
        "Empleados_2020 = {\n",
        "  \"Gerente\" : {\n",
        "    \"nombre\" : \"Nicolas\",\n",
        "    \"apellido\": \"Ramirez\",\n",
        "    \"anio\" : 2020\n",
        "  },\n",
        "  \"Vendedor\" : {\n",
        "    \"nombre\" : \"Ines\",\n",
        "    \"apellido\": \"Herrero\",\n",
        "    \"anio\" : 2019\n",
        "  }\n",
        "} \n",
        "\n",
        "Empleados.update(Empleados_2020)"
      ],
      "execution_count": null,
      "outputs": []
    },
    {
      "cell_type": "code",
      "metadata": {
        "tags": [],
        "id": "zW_-vns4Tu1M",
        "outputId": "578fc05b-4ab7-4a10-ab91-e47ce8f87d81"
      },
      "source": [
        "print(json.dumps(Empleados, indent=4))"
      ],
      "execution_count": null,
      "outputs": [
        {
          "output_type": "stream",
          "text": [
            "{\n",
            "    \"Gerente\": {\n",
            "        \"nombre\": \"Nicolas\",\n",
            "        \"apellido\": \"Ramirez\",\n",
            "        \"anio\": 2020\n",
            "    },\n",
            "    \"Director\": {\n",
            "        \"nombre\": \"Maria\",\n",
            "        \"apellido\": \"Fernandez\",\n",
            "        \"anio\": 2017\n",
            "    },\n",
            "    \"Operario\": {\n",
            "        \"nombre\": \"Pedro\",\n",
            "        \"apellido\": \"Gonzalez\",\n",
            "        \"anio\": 2019\n",
            "    },\n",
            "    \"Vendedor\": {\n",
            "        \"nombre\": \"Ines\",\n",
            "        \"apellido\": \"Herrero\",\n",
            "        \"anio\": 2019\n",
            "    }\n",
            "}\n"
          ],
          "name": "stdout"
        }
      ]
    },
    {
      "cell_type": "markdown",
      "metadata": {
        "id": "ylA-GuDHARwt"
      },
      "source": [
        "## Operadores\n",
        "\n",
        "### Tipos de Operadores\n",
        "\n",
        "* Aritméticos\n",
        "* Comparación (Relacional)\n",
        "* Asignación\n",
        "* Lógicos\n",
        "* Bitwise\n",
        "* Membresía\n",
        "* Identidad"
      ]
    },
    {
      "cell_type": "markdown",
      "metadata": {
        "id": "M8d2cuiLARwu"
      },
      "source": [
        "### Aritméticos"
      ]
    },
    {
      "cell_type": "code",
      "metadata": {
        "tags": [],
        "id": "b_7KqyV8ARwv",
        "outputId": "41263ae3-5638-4148-f937-300caaddf1c9"
      },
      "source": [
        "a = 21\n",
        "b = 10\n",
        "c = 0\n",
        "\n",
        "c = a + b # suma\n",
        "print(c)\n",
        "\n",
        "c = a - b # resta\n",
        "print(c)\n",
        "\n",
        "c = a * b # multiplicación\n",
        "print(c)\n",
        "\n",
        "c = a / b # división\n",
        "print(c)\n",
        "\n",
        "c = a % b # módulo o resto\n",
        "print(c)\n",
        "\n",
        "a = 2\n",
        "b = 3\n",
        "c = a**b # exponenciación \n",
        "print(c)\n",
        "\n",
        "a = 10\n",
        "b = 5\n",
        "c = a // b \n",
        "print(c)\n"
      ],
      "execution_count": null,
      "outputs": [
        {
          "output_type": "stream",
          "text": [
            "31\n",
            "11\n",
            "210\n",
            "2.1\n",
            "1\n",
            "8\n",
            "2\n"
          ],
          "name": "stdout"
        }
      ]
    },
    {
      "cell_type": "markdown",
      "metadata": {
        "id": "YTc46u4CARwz"
      },
      "source": [
        "### Comparación"
      ]
    },
    {
      "cell_type": "code",
      "metadata": {
        "tags": [],
        "id": "lOFHrtMvARw0",
        "outputId": "7cc0a020-2dd1-4b8f-8404-046d027573cf"
      },
      "source": [
        "a = 21\n",
        "b = 10\n",
        "\n",
        "print(a == b)\n",
        "\n",
        "print(a != b)\n",
        "\n",
        "print(a < b)\n",
        "\n",
        "print(a > b)\n",
        "\n",
        "a, b = b, a  # a y b son swappados\n",
        "print([a, b])\n",
        "\n",
        "print(a <= b)\n",
        "\n",
        "print(b >= a)\n"
      ],
      "execution_count": null,
      "outputs": [
        {
          "output_type": "stream",
          "text": [
            "False\n",
            "True\n",
            "False\n",
            "True\n",
            "[10, 21]\n",
            "True\n",
            "True\n"
          ],
          "name": "stdout"
        }
      ]
    },
    {
      "cell_type": "markdown",
      "metadata": {
        "id": "AmT-bnzaARw4"
      },
      "source": [
        "### Asignación"
      ]
    },
    {
      "cell_type": "code",
      "metadata": {
        "tags": [],
        "id": "CEscwQQMARw5",
        "outputId": "30be4e82-d061-4516-be5b-9bce8e97469e"
      },
      "source": [
        "a = 21\n",
        "b = 10\n",
        "c = 0\n",
        "\n",
        "c = a + b\n",
        "print(c)\n",
        "\n",
        "c += a\n",
        "print(c)\n",
        "\n",
        "c *= a\n",
        "print(c)\n",
        "\n",
        "c /= a\n",
        "print(c)\n",
        "\n",
        "c = 2\n",
        "c %= a\n",
        "print(c)\n",
        "\n",
        "c **= a\n",
        "print(c)\n",
        "\n",
        "c //= a\n",
        "print(c)\n"
      ],
      "execution_count": null,
      "outputs": [
        {
          "output_type": "stream",
          "text": [
            "31\n",
            "52\n",
            "1092\n",
            "52.0\n",
            "2\n",
            "2097152\n",
            "99864\n"
          ],
          "name": "stdout"
        }
      ]
    },
    {
      "cell_type": "markdown",
      "metadata": {
        "id": "qkzVmQhOARw9"
      },
      "source": [
        "### Lógicos\n",
        "\n",
        "and, or, not"
      ]
    },
    {
      "cell_type": "code",
      "metadata": {
        "id": "EKuVieVDARw-",
        "outputId": "6e91b937-c5c1-4b7a-ecee-bc8a6265281f"
      },
      "source": [
        "True and False"
      ],
      "execution_count": null,
      "outputs": [
        {
          "output_type": "execute_result",
          "data": {
            "text/plain": [
              "False"
            ]
          },
          "metadata": {
            "tags": []
          },
          "execution_count": 270
        }
      ]
    },
    {
      "cell_type": "code",
      "metadata": {
        "id": "JXcfCMl1ARxE",
        "outputId": "c4998e88-4dcf-4ed8-dfa3-ccae93817dde"
      },
      "source": [
        "True & False"
      ],
      "execution_count": null,
      "outputs": [
        {
          "output_type": "execute_result",
          "data": {
            "text/plain": [
              "False"
            ]
          },
          "metadata": {
            "tags": []
          },
          "execution_count": 271
        }
      ]
    },
    {
      "cell_type": "code",
      "metadata": {
        "id": "3iuFDFg7ARxI",
        "outputId": "0fcce483-0e88-4dd9-a34d-e567998da535"
      },
      "source": [
        "True or False"
      ],
      "execution_count": null,
      "outputs": [
        {
          "output_type": "execute_result",
          "data": {
            "text/plain": [
              "True"
            ]
          },
          "metadata": {
            "tags": []
          },
          "execution_count": 272
        }
      ]
    },
    {
      "cell_type": "code",
      "metadata": {
        "id": "bsDfHvePARxM",
        "outputId": "78e1468a-f392-4857-c5d6-a15d0ad63719"
      },
      "source": [
        "not True"
      ],
      "execution_count": null,
      "outputs": [
        {
          "output_type": "execute_result",
          "data": {
            "text/plain": [
              "False"
            ]
          },
          "metadata": {
            "tags": []
          },
          "execution_count": 273
        }
      ]
    },
    {
      "cell_type": "code",
      "metadata": {
        "id": "2Jw_a4e0ARxR",
        "outputId": "4ef1b1ea-7541-40ea-930e-c7db0ff1ea01"
      },
      "source": [
        "[True, True, True] and [False, False, False]"
      ],
      "execution_count": null,
      "outputs": [
        {
          "output_type": "execute_result",
          "data": {
            "text/plain": [
              "[False, False, False]"
            ]
          },
          "metadata": {
            "tags": []
          },
          "execution_count": 274
        }
      ]
    },
    {
      "cell_type": "code",
      "metadata": {
        "id": "ZpefHuKdARxU",
        "outputId": "857b20bb-6894-4117-c010-e0b0e8794562"
      },
      "source": [
        "[True, True, True] & [False, False, False]"
      ],
      "execution_count": null,
      "outputs": [
        {
          "output_type": "error",
          "ename": "TypeError",
          "evalue": "unsupported operand type(s) for &: 'list' and 'list'",
          "traceback": [
            "\u001b[0;31m---------------------------------------------------------------------------\u001b[0m",
            "\u001b[0;31mTypeError\u001b[0m                                 Traceback (most recent call last)",
            "\u001b[0;32m<ipython-input-275-d7492fe28613>\u001b[0m in \u001b[0;36m<module>\u001b[0;34m\u001b[0m\n\u001b[0;32m----> 1\u001b[0;31m \u001b[0;34m[\u001b[0m\u001b[0;32mTrue\u001b[0m\u001b[0;34m,\u001b[0m \u001b[0;32mTrue\u001b[0m\u001b[0;34m,\u001b[0m \u001b[0;32mTrue\u001b[0m\u001b[0;34m]\u001b[0m \u001b[0;34m&\u001b[0m \u001b[0;34m[\u001b[0m\u001b[0;32mFalse\u001b[0m\u001b[0;34m,\u001b[0m \u001b[0;32mFalse\u001b[0m\u001b[0;34m,\u001b[0m \u001b[0;32mFalse\u001b[0m\u001b[0;34m]\u001b[0m\u001b[0;34m\u001b[0m\u001b[0;34m\u001b[0m\u001b[0m\n\u001b[0m",
            "\u001b[0;31mTypeError\u001b[0m: unsupported operand type(s) for &: 'list' and 'list'"
          ]
        }
      ]
    },
    {
      "cell_type": "markdown",
      "metadata": {
        "id": "zI_MZETsARxa"
      },
      "source": [
        "> El operador '**&**' realiza un \"bitwise and\""
      ]
    },
    {
      "cell_type": "code",
      "metadata": {
        "id": "83cvHvCeARxa",
        "outputId": "c53dc458-ab39-437d-a152-f4f88fad9dac"
      },
      "source": [
        "[10 & 13 , True & True] "
      ],
      "execution_count": null,
      "outputs": [
        {
          "output_type": "execute_result",
          "data": {
            "text/plain": [
              "[8, True]"
            ]
          },
          "metadata": {
            "tags": []
          },
          "execution_count": 277
        }
      ]
    },
    {
      "cell_type": "markdown",
      "metadata": {
        "id": "yr1WVnAqARxg"
      },
      "source": [
        "> El operador '**and**' en python no puede ser anulado ni modificado en su comportamiento, mientras que el operador '**&**' si, por lo cual es la elección de numpy y pandas.\n"
      ]
    },
    {
      "cell_type": "markdown",
      "metadata": {
        "id": "b8TaH-BGARxh"
      },
      "source": [
        "### Membresía\n",
        "\n",
        "in, notin"
      ]
    },
    {
      "cell_type": "code",
      "metadata": {
        "id": "c0ND3aXDTu1S",
        "outputId": "2649aed0-1c52-4598-be35-f4769a734b40"
      },
      "source": [
        "0 not in [1,2]"
      ],
      "execution_count": null,
      "outputs": [
        {
          "output_type": "execute_result",
          "data": {
            "text/plain": [
              "True"
            ]
          },
          "metadata": {
            "tags": []
          },
          "execution_count": 278
        }
      ]
    },
    {
      "cell_type": "code",
      "metadata": {
        "id": "BQ9JqhrYARxi",
        "outputId": "e07cb0fb-06fd-4199-a30b-f142b7f51bc4"
      },
      "source": [
        "1 in [1,2]"
      ],
      "execution_count": null,
      "outputs": [
        {
          "output_type": "execute_result",
          "data": {
            "text/plain": [
              "True"
            ]
          },
          "metadata": {
            "tags": []
          },
          "execution_count": 279
        }
      ]
    },
    {
      "cell_type": "code",
      "metadata": {
        "id": "GpijXWWPARxl",
        "outputId": "95f471e7-10df-494b-d735-bb265e504738"
      },
      "source": [
        "[1,2] in [[1,2],[2,3],[3,4]]"
      ],
      "execution_count": null,
      "outputs": [
        {
          "output_type": "execute_result",
          "data": {
            "text/plain": [
              "True"
            ]
          },
          "metadata": {
            "tags": []
          },
          "execution_count": 280
        }
      ]
    },
    {
      "cell_type": "code",
      "metadata": {
        "id": "Vu62LFs6ARxr",
        "outputId": "ab004da6-7980-455c-dc77-b6474e7effd0"
      },
      "source": [
        "[[1,2],[2,3],[3,4]] in [1,2]"
      ],
      "execution_count": null,
      "outputs": [
        {
          "output_type": "execute_result",
          "data": {
            "text/plain": [
              "False"
            ]
          },
          "metadata": {
            "tags": []
          },
          "execution_count": 281
        }
      ]
    },
    {
      "cell_type": "markdown",
      "metadata": {
        "id": "qADoOBlnARxw"
      },
      "source": [
        "## Fuentes\n",
        "\n",
        "* https://www.tutorialspoint.com/python3/\n",
        "* https://www.w3schools.com/python\n",
        "* https://www.python-course.eu/\n"
      ]
    }
  ]
}